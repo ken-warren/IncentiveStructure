{
 "cells": [
  {
   "cell_type": "markdown",
   "metadata": {},
   "source": [
    "**Project Overview**\n",
    "This project involves the analysis of field agents at company X, who capture and collect information about farmers, ranging from KYC data to the polygon/outlines of a farmer's field. The aim is to design an effective incentive structure to motivate the field agents and improve their productivity by rewarding the agents based on their input."
   ]
  },
  {
   "cell_type": "markdown",
   "metadata": {},
   "source": [
    "**Problem Statement**\n",
    "As Company X tracks the number of tasks completed by each field agents daily over a 83-days period, it aims to design an incentive structure that motivates agents, particularly those close to the top perfomers who need to reach their full potential. The challlenge is to create a fair and effective incentive plan that motivates all the field agents while maintaining the average compensation per task at a minimum of Ksh 175 and a maximum of Ksh 300."
   ]
  }
 ],
 "metadata": {
  "language_info": {
   "name": "python"
  }
 },
 "nbformat": 4,
 "nbformat_minor": 2
}
